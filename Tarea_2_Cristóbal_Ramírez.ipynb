{
  "nbformat": 4,
  "nbformat_minor": 0,
  "metadata": {
    "colab": {
      "provenance": []
    },
    "kernelspec": {
      "name": "python3",
      "display_name": "Python 3"
    },
    "language_info": {
      "name": "python"
    }
  },
  "cells": [
    {
      "cell_type": "code",
      "source": [],
      "metadata": {
        "id": "2UAexDyhrY7M"
      },
      "execution_count": null,
      "outputs": []
    },
    {
      "cell_type": "code",
      "execution_count": 3,
      "metadata": {
        "colab": {
          "base_uri": "https://localhost:8080/"
        },
        "id": "YLmL1F9JMsTw",
        "outputId": "af5f7229-c75e-4b6a-bc26-bd50592b4104"
      },
      "outputs": [
        {
          "output_type": "stream",
          "name": "stdout",
          "text": [
            "1\n",
            "2\n",
            "3\n",
            "4\n",
            "5\n",
            "6\n",
            "7\n",
            "8\n",
            "9\n",
            "10\n",
            "11\n",
            "12\n",
            "13\n",
            "14\n",
            "15\n",
            "16\n",
            "17\n",
            "18\n",
            "19\n",
            "20\n",
            "21\n",
            "22\n",
            "23\n",
            "24\n",
            "25\n",
            "26\n",
            "27\n",
            "28\n",
            "29\n",
            "30\n",
            "31\n",
            "32\n",
            "33\n",
            "34\n",
            "35\n",
            "36\n",
            "37\n",
            "38\n",
            "39\n",
            "40\n",
            "41\n",
            "42\n",
            "43\n",
            "44\n",
            "45\n",
            "46\n",
            "47\n",
            "48\n",
            "49\n",
            "50\n",
            "51\n",
            "52\n",
            "53\n",
            "54\n",
            "55\n",
            "56\n",
            "57\n",
            "58\n",
            "59\n",
            "60\n",
            "61\n",
            "62\n",
            "63\n",
            "64\n",
            "65\n",
            "66\n",
            "67\n",
            "68\n",
            "69\n",
            "70\n",
            "71\n",
            "72\n",
            "73\n",
            "74\n",
            "75\n",
            "76\n",
            "77\n",
            "78\n",
            "79\n",
            "80\n",
            "81\n",
            "82\n",
            "83\n",
            "84\n",
            "85\n",
            "86\n",
            "87\n",
            "88\n",
            "89\n",
            "90\n",
            "91\n",
            "92\n",
            "93\n",
            "94\n",
            "95\n",
            "96\n",
            "97\n",
            "98\n",
            "99\n",
            "100\n"
          ]
        }
      ],
      "source": [
        "#Ejercicio 1\n",
        "for perro in range (1,101):\n",
        "  print (perro)\n",
        "\n",
        "# El comando for itera la variable perro dentro del rango establecido que en este caso son del 1 al 100 y después lo imprimí usando la función print"
      ]
    },
    {
      "cell_type": "code",
      "source": [
        "#Ejercicio 2\n",
        "for perro in range (1,101):\n",
        "  if perro % 3 == 0:\n",
        "    print (perro)\n",
        "\n",
        "# Hice el mismo proceso inicial pero esta vez hice uso de la función if para condicionar que solo aparezca al imprimirlo si al ser dividido por 3 da 0"
      ],
      "metadata": {
        "colab": {
          "base_uri": "https://localhost:8080/"
        },
        "id": "3N0lkEojQLrN",
        "outputId": "244eda35-73dd-49d3-f6d5-c606138591bc"
      },
      "execution_count": null,
      "outputs": [
        {
          "output_type": "stream",
          "name": "stdout",
          "text": [
            "3\n",
            "6\n",
            "9\n",
            "12\n",
            "15\n",
            "18\n",
            "21\n",
            "24\n",
            "27\n",
            "30\n",
            "33\n",
            "36\n",
            "39\n",
            "42\n",
            "45\n",
            "48\n",
            "51\n",
            "54\n",
            "57\n",
            "60\n",
            "63\n",
            "66\n",
            "69\n",
            "72\n",
            "75\n",
            "78\n",
            "81\n",
            "84\n",
            "87\n",
            "90\n",
            "93\n",
            "96\n",
            "99\n"
          ]
        }
      ]
    },
    {
      "cell_type": "code",
      "source": [
        "#Ejercicio 3\n",
        "a = 20\n",
        "b = 120\n",
        "p = a + b\n",
        "print (p)\n",
        "if p < 100:\n",
        "  print ('es menor a 100')\n",
        "elif p > 100 and p < 150:\n",
        "  print ('es mayor a 100 y menor a 150')\n",
        "else:\n",
        "  if p > 150:\n",
        "    print ('mayor a 150')\n",
        "\n",
        "# Definí un valor para a y b y cree una variable que conste de la suma de a y b, luego mediante el if y el signo < establecí que si p es menor a 100 a la hora de imprimirlo aparezca el mensaje 'es menor a 100'.\n",
        "# Para la fila 8 usé el elif ya que es una condición diferente y ya que habían 2 requisitos usé el and para que los números que son mayores a 100 y menores a 150 aparezcan designados como tal\n",
        "# Para la parte final hice uso del else y repetí el mismo proceso"
      ],
      "metadata": {
        "colab": {
          "base_uri": "https://localhost:8080/"
        },
        "id": "qI9aMFJkS0QP",
        "outputId": "c84eacea-ff48-446a-bef7-1532d1038b03"
      },
      "execution_count": 6,
      "outputs": [
        {
          "output_type": "stream",
          "name": "stdout",
          "text": [
            "140\n",
            "es mayor a 100 y menor a 150\n"
          ]
        }
      ]
    },
    {
      "cell_type": "code",
      "source": [
        "#Ejercicio 4\n",
        "edad = 19\n",
        "gusto = 'No'\n",
        "if edad < 18 and gusto == 'Si':\n",
        "  print ('Eres menor de edad y te gusta programar')\n",
        "elif edad > 18 and gusto == 'Si':\n",
        "    print ('Eres mayor de edad y te gusta programar')\n",
        "else:\n",
        "  if edad < 18 and gusto == 'No':\n",
        "    print ('Eres menor de edad y no te gusta programar')\n",
        "  elif edad > 18 and gusto == 'No':\n",
        "    print ('Eres mayor de edad y no te gusta programar')\n",
        "\n",
        "# Establecí una variable de edad y gusto y asigné ambas un valor. Usé el if, el signo < y el and para que en el caso de que la variable calze con las condiciones de edad < 18 y gusto == 'Si', aparezca al imprimir 'Eres menor de edad y te gusta programar'\n",
        "# La siguiente es básicamente lo mismo solo que usé elif e invertí el signo > para señalar que la edad es mayor a 18\n",
        "# Para estas últimas dos use el else y cambie la segunda condición a 'No'"
      ],
      "metadata": {
        "colab": {
          "base_uri": "https://localhost:8080/"
        },
        "id": "N3ueG3mNXeew",
        "outputId": "98434243-20e3-4fe2-fb94-ea53e09d02fc"
      },
      "execution_count": 5,
      "outputs": [
        {
          "output_type": "stream",
          "name": "stdout",
          "text": [
            "Eres mayor de edad y no te gusta programar\n"
          ]
        }
      ]
    }
  ]
}